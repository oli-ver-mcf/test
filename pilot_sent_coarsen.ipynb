{
 "cells": [
  {
   "cell_type": "code",
   "execution_count": 22,
   "metadata": {},
   "outputs": [],
   "source": [
    "import numpy as np\n",
    "import h5py as h5\n",
    "from pyproj import Proj,transform\n",
    "from osgeo import gdal\n",
    "from osgeo import osr\n",
    "from math import floor\n",
    "from glob import glob\n",
    "import pandas as pd\n",
    "import matplotlib.pyplot as plt"
   ]
  },
  {
   "cell_type": "code",
   "execution_count": null,
   "metadata": {},
   "outputs": [],
   "source": [
    "# Imports functions from pilot_functions.py\n"
   ]
  },
  {
   "cell_type": "code",
   "execution_count": 26,
   "metadata": {
    "scrolled": false
   },
   "outputs": [
    {
     "name": "stdout",
     "output_type": "stream",
     "text": [
      "Written to  /home/s1949330/Documents/coarsened_data/T36LWK_A025400_20200503T075551_B02.jp2\n",
      "Written to  /home/s1949330/Documents/coarsened_data/T36LWK_A025400_20200503T075551_B03.jp2\n",
      "Written to  /home/s1949330/Documents/coarsened_data/T36LWK_A025400_20200503T075551_B04.jp2\n",
      "Written to  /home/s1949330/Documents/coarsened_data/T36LWK_A025400_20200503T075551_B05.jp2\n",
      "Written to  /home/s1949330/Documents/coarsened_data/T36LWK_A025400_20200503T075551_B06.jp2\n",
      "Written to  /home/s1949330/Documents/coarsened_data/T36LWK_A025400_20200503T075551_B07.jp2\n",
      "Written to  /home/s1949330/Documents/coarsened_data/T36LWK_A025400_20200503T075551_B08.jp2\n",
      "Written to  /home/s1949330/Documents/coarsened_data/T36LWK_A025400_20200503T075551_B11.jp2\n",
      "Written to  /home/s1949330/Documents/coarsened_data/T36LWK_A025400_20200503T075551_B12.jp2\n"
     ]
    },
    {
     "ename": "AttributeError",
     "evalue": "'NoneType' object has no attribute 'GetProjection'",
     "output_type": "error",
     "traceback": [
      "\u001b[0;31m---------------------------------------------------------------------------\u001b[0m",
      "\u001b[0;31mAttributeError\u001b[0m                            Traceback (most recent call last)",
      "\u001b[0;32m<ipython-input-26-a989ecced03b>\u001b[0m in \u001b[0;36m<module>\u001b[0;34m\u001b[0m\n\u001b[1;32m     19\u001b[0m \u001b[0;32mfor\u001b[0m \u001b[0minFile\u001b[0m \u001b[0;32min\u001b[0m \u001b[0msentList\u001b[0m\u001b[0;34m:\u001b[0m\u001b[0;34m\u001b[0m\u001b[0;34m\u001b[0m\u001b[0m\n\u001b[1;32m     20\u001b[0m     \u001b[0;31m# Reading\u001b[0m\u001b[0;34m\u001b[0m\u001b[0;34m\u001b[0m\u001b[0;34m\u001b[0m\u001b[0m\n\u001b[0;32m---> 21\u001b[0;31m     \u001b[0msent\u001b[0m \u001b[0;34m=\u001b[0m \u001b[0mreadSentinel\u001b[0m\u001b[0;34m(\u001b[0m\u001b[0minFile\u001b[0m\u001b[0;34m)\u001b[0m\u001b[0;34m\u001b[0m\u001b[0;34m\u001b[0m\u001b[0m\n\u001b[0m\u001b[1;32m     22\u001b[0m     \u001b[0museData\u001b[0m\u001b[0;34m=\u001b[0m\u001b[0;32mTrue\u001b[0m\u001b[0;34m\u001b[0m\u001b[0;34m\u001b[0m\u001b[0m\n\u001b[1;32m     23\u001b[0m     \u001b[0;32mif\u001b[0m \u001b[0msent\u001b[0m\u001b[0;34m.\u001b[0m\u001b[0mpixelWidth\u001b[0m \u001b[0;34m==\u001b[0m \u001b[0;36m60\u001b[0m\u001b[0;34m:\u001b[0m\u001b[0;34m\u001b[0m\u001b[0;34m\u001b[0m\u001b[0m\n",
      "\u001b[0;32m<ipython-input-23-62145cfffe9e>\u001b[0m in \u001b[0;36m__init__\u001b[0;34m(self, fileName)\u001b[0m\n\u001b[1;32m      7\u001b[0m         \u001b[0;31m#for fileName in bandList:\u001b[0m\u001b[0;34m\u001b[0m\u001b[0;34m\u001b[0m\u001b[0;34m\u001b[0m\u001b[0m\n\u001b[1;32m      8\u001b[0m         \u001b[0mds\u001b[0m \u001b[0;34m=\u001b[0m \u001b[0mgdal\u001b[0m\u001b[0;34m.\u001b[0m\u001b[0mOpen\u001b[0m\u001b[0;34m(\u001b[0m\u001b[0mfileName\u001b[0m\u001b[0;34m)\u001b[0m\u001b[0;34m\u001b[0m\u001b[0;34m\u001b[0m\u001b[0m\n\u001b[0;32m----> 9\u001b[0;31m         \u001b[0mproj\u001b[0m \u001b[0;34m=\u001b[0m \u001b[0mosr\u001b[0m\u001b[0;34m.\u001b[0m\u001b[0mSpatialReference\u001b[0m\u001b[0;34m(\u001b[0m\u001b[0mwkt\u001b[0m \u001b[0;34m=\u001b[0m \u001b[0mds\u001b[0m\u001b[0;34m.\u001b[0m\u001b[0mGetProjection\u001b[0m\u001b[0;34m(\u001b[0m\u001b[0;34m)\u001b[0m\u001b[0;34m)\u001b[0m\u001b[0;34m\u001b[0m\u001b[0;34m\u001b[0m\u001b[0m\n\u001b[0m\u001b[1;32m     10\u001b[0m         \u001b[0mself\u001b[0m\u001b[0;34m.\u001b[0m\u001b[0mepsg\u001b[0m \u001b[0;34m=\u001b[0m \u001b[0mint\u001b[0m\u001b[0;34m(\u001b[0m\u001b[0mproj\u001b[0m\u001b[0;34m.\u001b[0m\u001b[0mGetAttrValue\u001b[0m\u001b[0;34m(\u001b[0m\u001b[0;34m'AUTHORITY'\u001b[0m\u001b[0;34m,\u001b[0m \u001b[0;36m1\u001b[0m\u001b[0;34m)\u001b[0m\u001b[0;34m)\u001b[0m\u001b[0;34m\u001b[0m\u001b[0;34m\u001b[0m\u001b[0m\n\u001b[1;32m     11\u001b[0m         \u001b[0mself\u001b[0m\u001b[0;34m.\u001b[0m\u001b[0mnX\u001b[0m \u001b[0;34m=\u001b[0m \u001b[0mds\u001b[0m\u001b[0;34m.\u001b[0m\u001b[0mRasterXSize\u001b[0m\u001b[0;34m\u001b[0m\u001b[0;34m\u001b[0m\u001b[0m\n",
      "\u001b[0;31mAttributeError\u001b[0m: 'NoneType' object has no attribute 'GetProjection'"
     ]
    }
   ],
   "source": [
    "# Read & Coarsen Sentinel2 bands\n",
    "sentList = ['/home/s1949330/Documents/initial_data/T36LWK_A025400_20200503T075551_B01.jp2', \n",
    "            '/home/s1949330/Documents/initial_data/T36LWK_A025400_20200503T075551_B02.jp2', \n",
    "            '/home/s1949330/Documents/initial_data/T36LWK_A025400_20200503T075551_B03.jp2',\n",
    "            '/home/s1949330/Documents/initial_data/T36LWK_A025400_20200503T075551_B04.jp2',\n",
    "            '/home/s1949330/Documents/initial_data/T36LWK_A025400_20200503T075551_B05.jp2',\n",
    "            '/home/s1949330/Documents/initial_data/T36LWK_A025400_20200503T075551_B06.jp2',\n",
    "            '/home/s1949330/Documents/initial_data/T36LWK_A025400_20200503T075551_B07.jp2',\n",
    "            '/home/s1949330/Documents/initial_data/T36LWK_A025400_20200503T075551_B08.jp2',\n",
    "            '/home/s1949330/Documents/initial_data/T36LWK_A025400_20200503T075551_B09.jp2',\n",
    "            '/home/s1949330/Documents/initial_data/T36LWK_A025400_20200503T075551_B11.jp2',\n",
    "            '/home/s1949330/Documents/initial_data/T36LWK_A025400_20200503T075551_B12.jp2',\n",
    "            '/home/s1949330/Documents/initial_data/T36LWK_A025400_20200503T075551_B08A.jp2']\n",
    "\n",
    "oldDir='/home/s1949330/Documents/initial_data/'\n",
    "newDir='/home/s1949330/Documents/coarsened_data/'\n",
    "\n",
    "# Write (coarsened) Sentinel2 data as geotiffs\n",
    "for inFile in sentList:\n",
    "    # Reading\n",
    "    sent = readSentinel(inFile)\n",
    "    useData=True\n",
    "    if sent.pixelWidth == 60:\n",
    "        useData = False\n",
    "    elif sent.pixelWidth == 10:\n",
    "    # Coarsening\n",
    "        sent.coarsen(20)\n",
    "    # Writing\n",
    "    if(useData):\n",
    "        outFile = inFile.replace(oldDir,newDir)\n",
    "        sent.writeTiff(outFile)\n"
   ]
  },
  {
   "cell_type": "code",
   "execution_count": 1,
   "metadata": {},
   "outputs": [
    {
     "ename": "NameError",
     "evalue": "name 'readSentinel' is not defined",
     "output_type": "error",
     "traceback": [
      "\u001b[0;31m---------------------------------------------------------------------------\u001b[0m",
      "\u001b[0;31mNameError\u001b[0m                                 Traceback (most recent call last)",
      "\u001b[0;32m<ipython-input-1-1c37ca80a277>\u001b[0m in \u001b[0;36m<module>\u001b[0;34m\u001b[0m\n\u001b[1;32m     12\u001b[0m \u001b[0mi\u001b[0m \u001b[0;34m=\u001b[0m \u001b[0;36m0\u001b[0m\u001b[0;34m\u001b[0m\u001b[0;34m\u001b[0m\u001b[0m\n\u001b[1;32m     13\u001b[0m \u001b[0;32mfor\u001b[0m \u001b[0mfilename\u001b[0m \u001b[0;32min\u001b[0m \u001b[0msentList20\u001b[0m\u001b[0;34m:\u001b[0m\u001b[0;34m\u001b[0m\u001b[0;34m\u001b[0m\u001b[0m\n\u001b[0;32m---> 14\u001b[0;31m     \u001b[0msent20\u001b[0m \u001b[0;34m=\u001b[0m \u001b[0mreadSentinel\u001b[0m\u001b[0;34m(\u001b[0m\u001b[0mfilename\u001b[0m\u001b[0;34m)\u001b[0m\u001b[0;34m\u001b[0m\u001b[0;34m\u001b[0m\u001b[0m\n\u001b[0m\u001b[1;32m     15\u001b[0m     \u001b[0mi\u001b[0m \u001b[0;34m=\u001b[0m \u001b[0mi\u001b[0m \u001b[0;34m+\u001b[0m \u001b[0;36m1\u001b[0m\u001b[0;34m\u001b[0m\u001b[0;34m\u001b[0m\u001b[0m\n\u001b[1;32m     16\u001b[0m \u001b[0;34m\u001b[0m\u001b[0m\n",
      "\u001b[0;31mNameError\u001b[0m: name 'readSentinel' is not defined"
     ]
    }
   ],
   "source": [
    "sentList20 = ['/home/s1949330/Documents/coarsened_data/T36LWK_A025400_20200503T075551_B02.jp2', \n",
    "              '/home/s1949330/Documents/coarsened_data/T36LWK_A025400_20200503T075551_B03.jp2',\n",
    "              '/home/s1949330/Documents/coarsened_data/T36LWK_A025400_20200503T075551_B04.jp2',\n",
    "              '/home/s1949330/Documents/coarsened_data/T36LWK_A025400_20200503T075551_B05.jp2', \n",
    "              '/home/s1949330/Documents/coarsened_data/T36LWK_A025400_20200503T075551_B06.jp2',\n",
    "              '/home/s1949330/Documents/coarsened_data/T36LWK_A025400_20200503T075551_B07.jp2',\n",
    "              '/home/s1949330/Documents/coarsened_data/T36LWK_A025400_20200503T075551_B08.jp2',\n",
    "              '/home/s1949330/Documents/coarsened_data/T36LWK_A025400_20200503T075551_B11.jp2',\n",
    "              '/home/s1949330/Documents/coarsened_data/T36LWK_A025400_20200503T075551_B12.jp2']\n",
    "\n",
    "\n",
    "i = 0\n",
    "for filename in sentList20:\n",
    "    sent20 = readSentinel(filename)\n",
    "    i = i + 1\n",
    "    "
   ]
  }
 ],
 "metadata": {
  "kernelspec": {
   "display_name": "Python 3",
   "language": "python",
   "name": "python3"
  },
  "language_info": {
   "codemirror_mode": {
    "name": "ipython",
    "version": 3
   },
   "file_extension": ".py",
   "mimetype": "text/x-python",
   "name": "python",
   "nbconvert_exporter": "python",
   "pygments_lexer": "ipython3",
   "version": "3.8.10"
  }
 },
 "nbformat": 4,
 "nbformat_minor": 4
}
