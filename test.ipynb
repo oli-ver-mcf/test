{
 "cells": [
  {
   "cell_type": "code",
   "execution_count": 1,
   "metadata": {},
   "outputs": [
    {
     "name": "stdout",
     "output_type": "stream",
     "text": [
      "Hello world\n"
     ]
    }
   ],
   "source": [
    "print('Hello world')"
   ]
  },
  {
   "cell_type": "code",
   "execution_count": 2,
   "metadata": {},
   "outputs": [],
   "source": [
    "class readGEDI():\n",
    "    def __init__(self,fileList):\n",
    "        self.x=np.empty()\n",
    "        self.y=np.empty()\n",
    "        \n",
    "        \n",
    "        # loop over GEDI\n",
    "        \n",
    "        # append\n",
    "        \n",
    "gedi=readGEDI(filelist)\n",
    "\n",
    "print(gedi.x)"
   ]
  },
  {
   "cell_type": "code",
   "execution_count": null,
   "metadata": {},
   "outputs": [],
   "source": [
    "import osr\n",
    "\n",
    "\n",
    "class readSentinel():\n",
    "    \n",
    "  def __init__(self,filename):\n",
    "    \n",
    "    # open file into ds\n",
    "    \n",
    "    proj = osr.SpatialReference(wkt = ds.GetProjection())\n",
    "\n",
    "    self.epsg = int(proj.GetAttrValue('AUTHORITY', 1))\n",
    "\n",
    "\n",
    "    ds.nX = ds.RasterXSize\n",
    "    ds.nY = ds.RasterYSize\n",
    "\n",
    "    transform_ds = ds.GetGeoTransform()\n",
    "    ds.xOrigin = transform_ds[0]\n",
    "    ds.yOrigin = transform_ds[3]\n",
    "    ds.pixelWidth = transform_ds[1]\n",
    "    ds.pixelHeight = transform_ds[5]\n",
    "    ds.data = ds.GetRasterBand(1).ReadAsArray(0,0,ds.nX,ds.nY)\n",
    "    return"
   ]
  },
  {
   "cell_type": "code",
   "execution_count": null,
   "metadata": {},
   "outputs": [],
   "source": [
    "ds=np.empty((12),dtype=readSentinel)\n",
    "\n",
    "i=0\n",
    "for filename in fileList:\n",
    "    ds[i]=readSentinel(filename)\n",
    "    print(ds[i].epsg)\n",
    "    i=i+1\n",
    "    \n",
    "    \n",
    "# now have 12 classes, each contaianing one band, in RAM\n",
    "\n",
    "# delete 60 m bands\n",
    "\n",
    "# coarsen 10 m bands to 20 m \n",
    "\n",
    "# identify 20 m uxels that intersect GEDI\n",
    "\n",
    "# extract reflectance into CSV, matching GEDI array shape"
   ]
  }
 ],
 "metadata": {
  "kernelspec": {
   "display_name": "Python 3",
   "language": "python",
   "name": "python3"
  },
  "language_info": {
   "codemirror_mode": {
    "name": "ipython",
    "version": 3
   },
   "file_extension": ".py",
   "mimetype": "text/x-python",
   "name": "python",
   "nbconvert_exporter": "python",
   "pygments_lexer": "ipython3",
   "version": "3.8.10"
  }
 },
 "nbformat": 4,
 "nbformat_minor": 4
}
