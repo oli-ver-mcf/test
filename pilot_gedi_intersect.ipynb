{
 "cells": [
  {
   "cell_type": "code",
   "execution_count": null,
   "metadata": {},
   "outputs": [],
   "source": [
    "import numpy as np\n",
    "import h5py as h5\n",
    "from pyproj import Proj,transform\n",
    "from osgeo import gdal\n",
    "from osgeo import osr\n",
    "from math import floor\n",
    "from glob import glob\n",
    "import pandas as pd\n",
    "import matplotlib.pyplot as plt"
   ]
  },
  {
   "cell_type": "code",
   "execution_count": null,
   "metadata": {},
   "outputs": [],
   "source": [
    "# Import functions from pilot_functions.py\n"
   ]
  },
  {
   "cell_type": "code",
   "execution_count": null,
   "metadata": {},
   "outputs": [],
   "source": [
    "# Read GEDI data\n",
    "gedi = readGEDI('fileList')\n",
    "\n",
    "# Reproject GEDI data to Sentinel2 epsg\n",
    "gedi.reprojectGEDI(sent[0].epsg)"
   ]
  },
  {
   "cell_type": "code",
   "execution_count": null,
   "metadata": {},
   "outputs": [],
   "source": [
    "#  Identify Sentinel2 pixels that intersect with GEDI footprints\n",
    "xInd = np.array(np.floor((gedi.x - sent[0].xOrigin) / sent[0].pixelWidth), dtype = int)\n",
    "yInd = np.array(np.floor((gedi.y - sent[0].yOrigin) / sent[0].pixelHeight), dtype = int)\n",
    "\n",
    "\n",
    "# Prepare arrays to hold intersected Sentinel2 data\n",
    "nGedi = gedi.cover.shape[0]\n",
    "nSent = sent.shape[0]\n",
    "gedi.s2out = np.full((nGedi, nSent), -999, dtype = float)\n",
    "\n",
    "\n",
    "# Loop over GEDI footprints\n",
    "for j in range(0, gedi.cover.shape[0]):\n",
    "    if((xInd[j] >= 0) & (xInd[j] < sent[0].nX) & (yInd[j] >= 0) & (yInd[j] < sent[0].nY)):\n",
    "        # Loop over Sentinel2 bands\n",
    "        i = 0\n",
    "        for i in range(0,nSent):\n",
    "            gedi.s2out[j,i] = sent[i].data[xInd[j],yInd[j]]\n",
    "            print(i, j, sent[i].data[xInd[j], yInd[j]])\n",
    "            i = i + 1\n",
    "                       \n",
    "# Write csv \n",
    "# GEDI (reprojected x and y, sensitivity, cover) + Sentinel2 (coarsened, intersecting pixels for 9 bands)   \n",
    "file = 'pilot.csv'\n",
    "gedi.dumpData(file)"
   ]
  },
  {
   "cell_type": "code",
   "execution_count": null,
   "metadata": {},
   "outputs": [],
   "source": [
    "# Calculate Sentinel2 NDVI\n",
    "print(sent)\n",
    "\n",
    "band4 = sent[2].data\n",
    "band8 = sent[6].data\n",
    "\n",
    "print(band4, band8)\n",
    "print(gedi.s2out[0].data, gedi.s2out[1].data)\n",
    "\n",
    "ndvi = np.full(gedi.s2out.shape[0], -999, dtype = float)\n",
    "mask = [(band4 > 0) & (band8 > 0) & (gedi.s2out[0].data > 0) & (gedi.s2out[1].data > 0)]\n",
    "ndvi = ((band8[mask] - band4[mask]) / (band8[mask] + band4[mask]))\n",
    "print(ndvi)\n",
    "\n",
    "\n",
    "\n",
    "#plt.imshow(ndvi, cmap = 'Greens')\n",
    "#plt.colorbar()\n",
    "#plt.show()\n",
    "\n",
    "\n",
    "# Plot NDVI against GEDI cover\n",
    "\n"
   ]
  }
 ],
 "metadata": {
  "kernelspec": {
   "display_name": "Python 3",
   "language": "python",
   "name": "python3"
  },
  "language_info": {
   "codemirror_mode": {
    "name": "ipython",
    "version": 3
   },
   "file_extension": ".py",
   "mimetype": "text/x-python",
   "name": "python",
   "nbconvert_exporter": "python",
   "pygments_lexer": "ipython3",
   "version": "3.8.10"
  }
 },
 "nbformat": 4,
 "nbformat_minor": 4
}
