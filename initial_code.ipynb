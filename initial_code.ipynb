{
 "cells": [
  {
   "cell_type": "code",
   "execution_count": 1,
   "metadata": {},
   "outputs": [],
   "source": [
    "import numpy as np\n",
    "import h5py as h5"
   ]
  },
  {
   "cell_type": "code",
   "execution_count": 2,
   "metadata": {},
   "outputs": [
    {
     "name": "stdout",
     "output_type": "stream",
     "text": [
      "/home/s1949330\n"
     ]
    }
   ],
   "source": [
    "cd"
   ]
  },
  {
   "cell_type": "code",
   "execution_count": 3,
   "metadata": {},
   "outputs": [
    {
     "name": "stdout",
     "output_type": "stream",
     "text": [
      "/home/s1949330/Documents/initial_data\n"
     ]
    }
   ],
   "source": [
    "cd Documents/initial_data"
   ]
  },
  {
   "cell_type": "code",
   "execution_count": 4,
   "metadata": {},
   "outputs": [],
   "source": [
    "class readGEDI():\n",
    "    def __init__(self,fileList):\n",
    "        gedi_f = h5.File('GEDI02_B_2020_04_30_2020124194427_O07882_01_T02809_02_003_01_V002.h5', 'r')\n",
    "        beamList = ['BEAM0000','BEAM0001','BEAM0010','BEAM0011','BEAM0101','BEAM0110','BEAM1000','BEAM1011']       \n",
    "        \n",
    "        self.x = np.empty((), dtype = float)\n",
    "        self.y = np.empty((), dtype = float)\n",
    "        self.sens = np.empty((), dtype = float)\n",
    "        self.cover = np.empty((), dtype = float)\n",
    "        \n",
    "        for beam in beamList:\n",
    "            self.x = np.append(self.x, np.array(gedi_f[beam]['geolocation/lon_lowestmode']))\n",
    "            self.y = np.append(self.y, np.array(gedi_f[beam]['geolocation/lat_lowestmode']))\n",
    "            self.sens = np.append(self.sens, np.array(gedi_f[beam]['sensitivity']))\n",
    "            self.cover = np.append(self.cover, np.array(gedi_f[beam]['cover']))\n",
    "        "
   ]
  },
  {
   "cell_type": "code",
   "execution_count": 5,
   "metadata": {},
   "outputs": [
    {
     "name": "stdout",
     "output_type": "stream",
     "text": [
      "[-0.1        -0.17432582 -0.17403249 ... 43.89469689 43.89499315\n",
      " 43.8952898 ]\n",
      "[  0.         -43.36818741 -43.36804818 ...  -0.07988222  -0.07946151\n",
      "  -0.07904034]\n",
      "[0.         4.61821699 4.1790204  ... 0.76948482 0.78958929 0.72204185]\n",
      "[ 2.00000000e+00 -9.99900000e+03 -9.99900000e+03 ...  1.97091792e-02\n",
      "  5.04121557e-03  1.79270748e-02]\n"
     ]
    }
   ],
   "source": [
    "gedi = readGEDI('fileList')\n",
    "print(gedi.x)\n",
    "print(gedi.y)\n",
    "print(gedi.sens)\n",
    "print(gedi.cover)"
   ]
  },
  {
   "cell_type": "code",
   "execution_count": 6,
   "metadata": {},
   "outputs": [],
   "source": [
    "import osr\n",
    "import gdal\n",
    "\n",
    "class readSentinel():\n",
    "    def __init__(self,fileName):\n",
    "        ds = gdal.Open('T36LWK_A025400_20200503T075551_B01.jp2')\n",
    "        proj = osr.SpatialReference(wkt = ds.GetProjection())\n",
    "        self.epsg = int(proj.GetAttrValue('AUTHORITY', 1))\n",
    "        \n",
    "        self.nX = ds.RasterXSize\n",
    "        self.nY = ds.RasterYSize\n",
    "        transform_ds = ds.GetGeoTransform()\n",
    "        self.xOrigin = transform_ds[0]\n",
    "        self.yOrigin = transform_ds[3]\n",
    "        self.pixelWidth = transform_ds[1]\n",
    "        self.pixelHeight = transform_ds[5]\n",
    "        \n",
    "        self.data = ds.GetRasterBand(1).ReadAsArray(0, 0, self.nX, self.nY)\n",
    "        \n",
    "        s2 = np.empty((12), dtype = readSentinel)\n",
    "        \n",
    "        i = 0\n",
    "        for band in fileName:\n",
    "            s2[i] = readSentinel(band)\n",
    "            print(s2[i].epsg)\n",
    "            i = i + 1"
   ]
  },
  {
   "cell_type": "code",
   "execution_count": 7,
   "metadata": {},
   "outputs": [],
   "source": [
    "# sentinel2 = readSentinel('fileName')\n",
    "# print(sentinel2.nX)\n",
    "# print(sentinel2.nY)\n",
    "# print(sentinel2.data)"
   ]
  },
  {
   "cell_type": "code",
   "execution_count": null,
   "metadata": {},
   "outputs": [],
   "source": []
  }
 ],
 "metadata": {
  "kernelspec": {
   "display_name": "Python 3",
   "language": "python",
   "name": "python3"
  },
  "language_info": {
   "codemirror_mode": {
    "name": "ipython",
    "version": 3
   },
   "file_extension": ".py",
   "mimetype": "text/x-python",
   "name": "python",
   "nbconvert_exporter": "python",
   "pygments_lexer": "ipython3",
   "version": "3.8.10"
  }
 },
 "nbformat": 4,
 "nbformat_minor": 4
}
