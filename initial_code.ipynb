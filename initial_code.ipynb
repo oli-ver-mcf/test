{
 "cells": [
  {
   "cell_type": "code",
   "execution_count": 1,
   "metadata": {},
   "outputs": [],
   "source": [
    "import numpy as np\n",
    "import h5py as h5\n",
    "from pyproj import Proj,transform\n",
    "from osgeo import gdal\n",
    "from math import floor\n",
    "import numpy as np\n",
    "import osr\n",
    "from glob import glob"
   ]
  },
  {
   "cell_type": "code",
   "execution_count": 2,
   "metadata": {
    "scrolled": true
   },
   "outputs": [
    {
     "name": "stdout",
     "output_type": "stream",
     "text": [
      "[-0.1        -0.17432582 -0.17403249 ... 43.89469689 43.89499315\n",
      " 43.8952898 ]\n",
      "[  0.         -43.36818741 -43.36804818 ...  -0.07988222  -0.07946151\n",
      "  -0.07904034]\n",
      "[0.         4.61821699 4.1790204  ... 0.76948482 0.78958929 0.72204185]\n",
      "[ 2.00000000e+00 -9.99900000e+03 -9.99900000e+03 ...  1.97091792e-02\n",
      "  5.04121557e-03  1.79270748e-02]\n"
     ]
    }
   ],
   "source": [
    "## Reading GEDI & Sentinel2\n",
    "\n",
    "class readGEDI():\n",
    "    def __init__(self,fileList):\n",
    "        gedi_f = h5.File('/home/s1949330/Documents/initial_data/GEDI02_B_2020_04_30_2020124194427_O07882_01_T02809_02_003_01_V002.h5', 'r')\n",
    "        beamList = ['BEAM0000','BEAM0001','BEAM0010','BEAM0011','BEAM0101','BEAM0110','BEAM1000','BEAM1011']           \n",
    "        self.x = np.empty((), dtype = float)\n",
    "        self.y = np.empty((), dtype = float)\n",
    "        self.sens = np.empty((), dtype = float)\n",
    "        self.cover = np.empty((), dtype = float)\n",
    "        for beam in beamList:\n",
    "            self.x = np.append(self.x, np.array(gedi_f[beam]['geolocation/lon_lowestmode']))\n",
    "            self.y = np.append(self.y, np.array(gedi_f[beam]['geolocation/lat_lowestmode']))\n",
    "            self.sens = np.append(self.sens, np.array(gedi_f[beam]['sensitivity']))\n",
    "            self.cover = np.append(self.cover, np.array(gedi_f[beam]['cover']))   \n",
    "        return\n",
    "            \n",
    "    def reprojectData (self,outEPSG):\n",
    "        '''Rerpoject footprint coordinates'''\n",
    "        inProj = Proj(\"epsg:4326\")\n",
    "        outProj = Proj(\"epsg:\"+str(outEPSG))\n",
    "        x,y=transform(inProj,outProj,gedi.x,gedi.y)\n",
    "        gedi.x=x\n",
    "        gedi.y=y\n",
    "        return  \n",
    "    \n",
    "\n",
    "class readSentinel():\n",
    "    def __init__(self,fileName):\n",
    "        ds = gdal.Open(fileName)\n",
    "        proj = osr.SpatialReference(wkt = ds.GetProjection())\n",
    "        self.epsg = int(proj.GetAttrValue('AUTHORITY', 1))\n",
    "        self.nX = ds.RasterXSize\n",
    "        self.nY = ds.RasterYSize\n",
    "        transform_ds = ds.GetGeoTransform()\n",
    "        self.xOrigin = transform_ds[0]\n",
    "        self.yOrigin = transform_ds[3]\n",
    "        self.pixelWidth = transform_ds[1]\n",
    "        self.pixelHeight = transform_ds[5]\n",
    "        self.data = ds.GetRasterBand(1).ReadAsArray(0, 0, self.nX, self.nY)\n",
    "        return\n",
    "    \n",
    "    def coarsen(self,res):\n",
    "        '''Coarsen resolution of data layer'''    \n",
    "        # dimensions of output image\n",
    "        newX = floor(self.nX * self.pixelWidth / res)\n",
    "        newY = floor(self.nY * self.pixelHeight / (-1 * res))\n",
    "        # allocate space\n",
    "        newData = np.zeros((newX,newY), dtype = float)\n",
    "        contN = np.zeros((newX,newY), dtype = int)\n",
    "        # loop iover inpuit image and take rolling sum\n",
    "        for i in range(0,self.nX):\n",
    "            print('Column', i , 'of', self.nX)\n",
    "            for j in range(0, self.nY):\n",
    "                xInd = floor(i * self.pixelWidth / res)\n",
    "                yInd = floor(j * -1 * self.pixelHeight / res)\n",
    "                print(i,j,xInd,yInd,res,self.pixelWidth,self.pixelHeight)\n",
    "                newData[xInd,yInd] += self.data[i,j]\n",
    "                contN[xInd,yInd] += 1\n",
    "                \n",
    "        # normalise means\n",
    "        newData[contN > 0] = newData[contN > 0] / contN[contN > 0]\n",
    "        newData[contN == 0] = -999\n",
    "        self.pixelWidth = res\n",
    "        self.pixelHeight = -1 * res\n",
    "        self.data = newData\n",
    "        return\n"
   ]
  },
  {
   "cell_type": "code",
   "execution_count": 3,
   "metadata": {},
   "outputs": [],
   "source": [
    "### Reading Sentinel-2\n",
    "\n",
    "\n",
    "    \n",
    "    \n"
   ]
  },
  {
   "cell_type": "code",
   "execution_count": 14,
   "metadata": {},
   "outputs": [
    {
     "name": "stdout",
     "output_type": "stream",
     "text": [
      "['/home/s1949330/Documents/initial_data/T36LWK_A025400_20200503T075551_B07.jp2', '/home/s1949330/Documents/initial_data/T36LWK_A025400_20200503T075551_B08.jp2', '/home/s1949330/Documents/initial_data/T36LWK_A025400_20200503T075551_B05.jp2', '/home/s1949330/Documents/initial_data/T36LWK_A025400_20200503T075551_B8A.jp2', '/home/s1949330/Documents/initial_data/T36LWK_A025400_20200503T075551_B01.jp2', '/home/s1949330/Documents/initial_data/T36LWK_A025400_20200503T075551_B04.jp2', '/home/s1949330/Documents/initial_data/T36LWK_A025400_20200503T075551_B06.jp2', '/home/s1949330/Documents/initial_data/T36LWK_A025400_20200503T075551_B12.jp2', '/home/s1949330/Documents/initial_data/T36LWK_A025400_20200503T075551_B02.jp2', '/home/s1949330/Documents/initial_data/T36LWK_A025400_20200503T075551_B11.jp2', '/home/s1949330/Documents/initial_data/T36LWK_A025400_20200503T075551_B09.jp2', '/home/s1949330/Documents/initial_data/T36LWK_A025400_20200503T075551_B03.jp2']\n",
      "[ True  True  True  True  True  True  True  True  True  True  True  True]\n",
      "[<__main__.readSentinel object at 0x7fe60d21f550> None None None None None\n",
      " None None None None None None]\n"
     ]
    }
   ],
   "source": [
    "# Run Sentinel-2 Coarsening\n",
    "\n",
    "dir='/home/s1949330/Documents/initial_data'\n",
    "sentList=glob(dir+'/*.jp2')\n",
    "print(sentList)\n",
    "\n",
    "s2 = np.empty((12),dtype = readSentinel)\n",
    "useList = np.full((12),True,dtype = bool)\n",
    "print(useList)\n",
    "        \n",
    "i = 0\n",
    "for filename in sentList:\n",
    "    s2[i] = readSentinel(filename)  \n",
    "    if s2[i].pixelWidth == 60:\n",
    "        useList[i] = False\n",
    "    elif s2[i].pixelWidth == 10:\n",
    "        useList[i] = False\n",
    "        #s2[i].coarsen(20)\n",
    "    #i = i + 1 \n",
    "    "
   ]
  },
  {
   "cell_type": "code",
   "execution_count": 15,
   "metadata": {
    "scrolled": true
   },
   "outputs": [
    {
     "name": "stdout",
     "output_type": "stream",
     "text": [
      "(914390, 12)\n"
     ]
    },
    {
     "ename": "AttributeError",
     "evalue": "type object 'readSentinel' has no attribute 'data'",
     "output_type": "error",
     "traceback": [
      "\u001b[0;31m---------------------------------------------------------------------------\u001b[0m",
      "\u001b[0;31mAttributeError\u001b[0m                            Traceback (most recent call last)",
      "\u001b[0;32m<ipython-input-15-e2f46cbf0d4e>\u001b[0m in \u001b[0;36m<module>\u001b[0;34m\u001b[0m\n\u001b[1;32m      8\u001b[0m \u001b[0mi\u001b[0m \u001b[0;34m=\u001b[0m \u001b[0;36m0\u001b[0m\u001b[0;34m\u001b[0m\u001b[0;34m\u001b[0m\u001b[0m\n\u001b[1;32m      9\u001b[0m \u001b[0;32mfor\u001b[0m \u001b[0mi\u001b[0m \u001b[0;32min\u001b[0m \u001b[0mrange\u001b[0m\u001b[0;34m(\u001b[0m\u001b[0;36m0\u001b[0m\u001b[0;34m,\u001b[0m\u001b[0mnSent\u001b[0m\u001b[0;34m)\u001b[0m\u001b[0;34m:\u001b[0m\u001b[0;34m\u001b[0m\u001b[0;34m\u001b[0m\u001b[0m\n\u001b[0;32m---> 10\u001b[0;31m     \u001b[0ms2\u001b[0m \u001b[0;34m=\u001b[0m \u001b[0mreadSentinel\u001b[0m\u001b[0;34m.\u001b[0m\u001b[0mdata\u001b[0m\u001b[0;34m\u001b[0m\u001b[0;34m\u001b[0m\u001b[0m\n\u001b[0m\u001b[1;32m     11\u001b[0m     \u001b[0mxInd\u001b[0m \u001b[0;34m=\u001b[0m \u001b[0mnp\u001b[0m\u001b[0;34m.\u001b[0m\u001b[0mfloor\u001b[0m\u001b[0;34m(\u001b[0m\u001b[0;34m(\u001b[0m\u001b[0mgedi\u001b[0m\u001b[0;34m.\u001b[0m\u001b[0mx\u001b[0m \u001b[0;34m-\u001b[0m \u001b[0ms2\u001b[0m\u001b[0;34m[\u001b[0m\u001b[0mi\u001b[0m\u001b[0;34m]\u001b[0m\u001b[0;34m.\u001b[0m\u001b[0mxOrigin\u001b[0m\u001b[0;34m)\u001b[0m \u001b[0;34m/\u001b[0m \u001b[0ms2\u001b[0m\u001b[0;34m[\u001b[0m\u001b[0mi\u001b[0m\u001b[0;34m]\u001b[0m\u001b[0;34m.\u001b[0m\u001b[0mpixelWidth\u001b[0m\u001b[0;34m)\u001b[0m\u001b[0;34m\u001b[0m\u001b[0;34m\u001b[0m\u001b[0m\n\u001b[1;32m     12\u001b[0m     \u001b[0myInd\u001b[0m \u001b[0;34m=\u001b[0m \u001b[0mnp\u001b[0m\u001b[0;34m.\u001b[0m\u001b[0mfloor\u001b[0m\u001b[0;34m(\u001b[0m\u001b[0;34m(\u001b[0m\u001b[0mgedi\u001b[0m\u001b[0;34m.\u001b[0m\u001b[0my\u001b[0m \u001b[0;34m-\u001b[0m \u001b[0ms2\u001b[0m\u001b[0;34m[\u001b[0m\u001b[0mi\u001b[0m\u001b[0;34m]\u001b[0m\u001b[0;34m.\u001b[0m\u001b[0myOrigin\u001b[0m\u001b[0;34m)\u001b[0m \u001b[0;34m/\u001b[0m \u001b[0ms2\u001b[0m\u001b[0;34m[\u001b[0m\u001b[0mi\u001b[0m\u001b[0;34m]\u001b[0m\u001b[0;34m.\u001b[0m\u001b[0mpixelHeight\u001b[0m\u001b[0;34m)\u001b[0m\u001b[0;34m\u001b[0m\u001b[0;34m\u001b[0m\u001b[0m\n",
      "\u001b[0;31mAttributeError\u001b[0m: type object 'readSentinel' has no attribute 'data'"
     ]
    }
   ],
   "source": [
    "# GEDI array intersect with Sentinel-2 coordinates\n",
    "\n",
    "nGedi = gedi.cover.shape[0]\n",
    "nSent = s2.shape[0]\n",
    "s2out = np.full((nGedi,nSent), -999, dtype = float)\n",
    "print(s2out.shape)\n",
    "\n",
    "i = 0\n",
    "for i in range(0,nSent):\n",
    "    xInd = np.floor((gedi.x - s2[i].xOrigin) / s2[i].pixelWidth)\n",
    "    yInd = np.floor((gedi.y - s2[i].yOrigin) / s2[i].pixelHeight)\n",
    "    #s2ref[:i] = s2[i].data(xInd,yInd)\n",
    "\n",
    "      \n",
    "# Reproject GEDI coordinates into Sentinel 2 projection\n",
    "gedi.reprojectData(s2[0].epsg)\n",
    "print(gedi.x.shape, gedi.y.shape)\n",
    "print(gedi.x, gedi.y)\n",
    "\n",
    "\n",
    "# Align Sentinel-2 and GEDI\n",
    "useMask = [(xInd >= 0), (xInd < readSentinel.nX), (yInd >= 0), (yInd < readSentinel.nY)]\n",
    "aligned = s2[i].data[xInd[useMask], yInd[useMask]]\n",
    "print(aligned)\n"
   ]
  },
  {
   "cell_type": "code",
   "execution_count": null,
   "metadata": {},
   "outputs": [],
   "source": [
    "# Extract S2 data into GEDI structure"
   ]
  },
  {
   "cell_type": "code",
   "execution_count": null,
   "metadata": {},
   "outputs": [],
   "source": [
    "# write all data to CSV\n",
    "\n",
    "\n",
    "# end notebook. Make new notebook"
   ]
  }
 ],
 "metadata": {
  "kernelspec": {
   "display_name": "Python 3",
   "language": "python",
   "name": "python3"
  },
  "language_info": {
   "codemirror_mode": {
    "name": "ipython",
    "version": 3
   },
   "file_extension": ".py",
   "mimetype": "text/x-python",
   "name": "python",
   "nbconvert_exporter": "python",
   "pygments_lexer": "ipython3",
   "version": "3.8.10"
  }
 },
 "nbformat": 4,
 "nbformat_minor": 4
}
